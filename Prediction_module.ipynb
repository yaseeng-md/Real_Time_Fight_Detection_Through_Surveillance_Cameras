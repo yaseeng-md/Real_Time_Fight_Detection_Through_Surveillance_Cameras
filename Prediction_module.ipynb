{
 "cells": [
  {
   "cell_type": "code",
   "execution_count": 1,
   "id": "501dd804-db39-4cfb-b6ca-af3dff9a1781",
   "metadata": {},
   "outputs": [],
   "source": [
    "import cv2\n",
    "import numpy as np \n",
    "from collections import deque\n",
    "import matplotlib.pyplot as plt\n",
    "import pickle\n",
    "import tensorflow as tf\n",
    "from tensorflow.keras.layers import *\n",
    "from tensorflow.keras.models import Sequential,load_model"
   ]
  },
  {
   "cell_type": "code",
   "execution_count": 2,
   "id": "f20b9df3-7198-42ec-bd04-eeeb8fcefecf",
   "metadata": {},
   "outputs": [],
   "source": [
    "DATA_DIR = \"fight-detection-surv-dataset\"\n",
    "CLASS_NAMES = [\"fight\",\"noFight\"]\n",
    "SEQUENCE_LENGTH = 8\n",
    "IMG_HEIGHT , IMG_WIDTH = 150,150\n",
    "BATCHES = 32\n",
    "CHANNELS = 3\n",
    "INPUT_SHAPE = (IMG_HEIGHT,IMG_WIDTH,CHANNELS) #(SEQUENCE_LENGTH,IMG_HEIGHT,IMG_WIDTH,CHANNELS)\n",
    "LABEL_POSITION = (10, 30) #(x,y)\n",
    "LABEL_FONT = cv2.FONT_HERSHEY_SIMPLEX\n",
    "LABEL_FONT_SIZE = 0.8\n",
    "LABEL_THICKNESS = 2\n",
    "FIGHT_COLOR = (0,0,255)\n",
    "NOFIGHT_COLOR = (0,255,0)\n"
   ]
  },
  {
   "cell_type": "code",
   "execution_count": 19,
   "id": "1fa3c65f-7c83-4c4f-9cdf-814fcfe752d6",
   "metadata": {},
   "outputs": [],
   "source": [
    "model_paths = [\"Saved_Models/CNN_LSTM.keras\",\"Saved_Models/CNN + BiLSTM Model.keras\",\"Saved_Models/3D_CNN_Model.keras\",\"Saved_Models/3D_CNN_LSTM_Model.keras\",\"Saved_Models/CNN + BiLSTM Model.keras\"]"
   ]
  },
  {
   "cell_type": "code",
   "execution_count": 4,
   "id": "84fc93a3-1bfa-43d2-a2cb-aba6a46046b2",
   "metadata": {},
   "outputs": [],
   "source": [
    "import cv2\n",
    "import numpy as np\n",
    "from collections import deque\n",
    "\n",
    "def predict_the_video(video_path):\n",
    "    video_reader = cv2.VideoCapture(video_path)\n",
    "    frames_queue = deque(maxlen=SEQUENCE_LENGTH)\n",
    "    predicted_class = \"\"\n",
    "    \n",
    "    while video_reader.isOpened():\n",
    "        success, frame = video_reader.read()\n",
    "        if not success:\n",
    "            break\n",
    "        resized_frame = cv2.resize(frame, (IMG_HEIGHT, IMG_WIDTH))\n",
    "        normalized_frame = resized_frame / 255.0\n",
    "        frames_queue.append(normalized_frame)\n",
    "        np_array = np.asarray(frames_queue)\n",
    "        if len(frames_queue) == SEQUENCE_LENGTH:\n",
    "            predicted_class_probabilities = model.predict(np.expand_dims(np_array, axis=0))[0]\n",
    "            predicted_class_index = np.argmax(predicted_class_probabilities)\n",
    "            predicted_class = CLASS_NAMES[predicted_class_index]\n",
    "            if predicted_class == \"Fight\" or predicted_class_index == 0:\n",
    "                outline_color = FIGHT_COLOR \n",
    "                text_color = FIGHT_COLOR\n",
    "                cv2.rectangle(frame, (0, 0), (frame.shape[1], frame.shape[0]), outline_color, 10)\n",
    "            else:\n",
    "                outline_color = NOFIGHT_COLOR \n",
    "                text_color = NOFIGHT_COLOR \n",
    "            cv2.putText(frame, predicted_class, LABEL_POSITION, LABEL_FONT , 1, text_color, LABEL_THICKNESS)\n",
    "        cv2.imshow(\"Prediction\", frame)\n",
    "        if cv2.waitKey(1) & 0xFF == ord('q'):\n",
    "            break\n",
    "    video_reader.release()\n",
    "    cv2.destroyAllWindows()\n"
   ]
  },
  {
   "cell_type": "code",
   "execution_count": 21,
   "id": "08f6a9fd-edad-4a89-9605-cdc7d180ce37",
   "metadata": {},
   "outputs": [
    {
     "name": "stdin",
     "output_type": "stream",
     "text": [
      "Enter the model to be used :  2\n"
     ]
    }
   ],
   "source": [
    "model_index = int(input(\"Enter the model to be used : \"))\n",
    "#model_paths = [CNN_LSTM, CNN + BiLSTM ,3D_CNN_Model , 3D_CNN_LSTM_Model, 3D_CNN_Bi-LSTM]\n",
    "model = load_model(model_paths[model_index])"
   ]
  },
  {
   "cell_type": "code",
   "execution_count": 23,
   "id": "2d62989c-96af-4312-80d2-3a6a3e2bd40d",
   "metadata": {},
   "outputs": [
    {
     "name": "stdout",
     "output_type": "stream",
     "text": [
      "\u001b[1m1/1\u001b[0m \u001b[32m━━━━━━━━━━━━━━━━━━━━\u001b[0m\u001b[37m\u001b[0m \u001b[1m0s\u001b[0m 74ms/step\n",
      "\u001b[1m1/1\u001b[0m \u001b[32m━━━━━━━━━━━━━━━━━━━━\u001b[0m\u001b[37m\u001b[0m \u001b[1m0s\u001b[0m 27ms/step\n",
      "\u001b[1m1/1\u001b[0m \u001b[32m━━━━━━━━━━━━━━━━━━━━\u001b[0m\u001b[37m\u001b[0m \u001b[1m0s\u001b[0m 31ms/step\n",
      "\u001b[1m1/1\u001b[0m \u001b[32m━━━━━━━━━━━━━━━━━━━━\u001b[0m\u001b[37m\u001b[0m \u001b[1m0s\u001b[0m 36ms/step\n",
      "\u001b[1m1/1\u001b[0m \u001b[32m━━━━━━━━━━━━━━━━━━━━\u001b[0m\u001b[37m\u001b[0m \u001b[1m0s\u001b[0m 33ms/step\n",
      "\u001b[1m1/1\u001b[0m \u001b[32m━━━━━━━━━━━━━━━━━━━━\u001b[0m\u001b[37m\u001b[0m \u001b[1m0s\u001b[0m 34ms/step\n",
      "\u001b[1m1/1\u001b[0m \u001b[32m━━━━━━━━━━━━━━━━━━━━\u001b[0m\u001b[37m\u001b[0m \u001b[1m0s\u001b[0m 36ms/step\n",
      "\u001b[1m1/1\u001b[0m \u001b[32m━━━━━━━━━━━━━━━━━━━━\u001b[0m\u001b[37m\u001b[0m \u001b[1m0s\u001b[0m 35ms/step\n",
      "\u001b[1m1/1\u001b[0m \u001b[32m━━━━━━━━━━━━━━━━━━━━\u001b[0m\u001b[37m\u001b[0m \u001b[1m0s\u001b[0m 32ms/step\n",
      "\u001b[1m1/1\u001b[0m \u001b[32m━━━━━━━━━━━━━━━━━━━━\u001b[0m\u001b[37m\u001b[0m \u001b[1m0s\u001b[0m 36ms/step\n",
      "\u001b[1m1/1\u001b[0m \u001b[32m━━━━━━━━━━━━━━━━━━━━\u001b[0m\u001b[37m\u001b[0m \u001b[1m0s\u001b[0m 32ms/step\n",
      "\u001b[1m1/1\u001b[0m \u001b[32m━━━━━━━━━━━━━━━━━━━━\u001b[0m\u001b[37m\u001b[0m \u001b[1m0s\u001b[0m 34ms/step\n",
      "\u001b[1m1/1\u001b[0m \u001b[32m━━━━━━━━━━━━━━━━━━━━\u001b[0m\u001b[37m\u001b[0m \u001b[1m0s\u001b[0m 31ms/step\n",
      "\u001b[1m1/1\u001b[0m \u001b[32m━━━━━━━━━━━━━━━━━━━━\u001b[0m\u001b[37m\u001b[0m \u001b[1m0s\u001b[0m 38ms/step\n",
      "\u001b[1m1/1\u001b[0m \u001b[32m━━━━━━━━━━━━━━━━━━━━\u001b[0m\u001b[37m\u001b[0m \u001b[1m0s\u001b[0m 33ms/step\n",
      "\u001b[1m1/1\u001b[0m \u001b[32m━━━━━━━━━━━━━━━━━━━━\u001b[0m\u001b[37m\u001b[0m \u001b[1m0s\u001b[0m 34ms/step\n",
      "\u001b[1m1/1\u001b[0m \u001b[32m━━━━━━━━━━━━━━━━━━━━\u001b[0m\u001b[37m\u001b[0m \u001b[1m0s\u001b[0m 35ms/step\n",
      "\u001b[1m1/1\u001b[0m \u001b[32m━━━━━━━━━━━━━━━━━━━━\u001b[0m\u001b[37m\u001b[0m \u001b[1m0s\u001b[0m 33ms/step\n",
      "\u001b[1m1/1\u001b[0m \u001b[32m━━━━━━━━━━━━━━━━━━━━\u001b[0m\u001b[37m\u001b[0m \u001b[1m0s\u001b[0m 34ms/step\n",
      "\u001b[1m1/1\u001b[0m \u001b[32m━━━━━━━━━━━━━━━━━━━━\u001b[0m\u001b[37m\u001b[0m \u001b[1m0s\u001b[0m 35ms/step\n",
      "\u001b[1m1/1\u001b[0m \u001b[32m━━━━━━━━━━━━━━━━━━━━\u001b[0m\u001b[37m\u001b[0m \u001b[1m0s\u001b[0m 36ms/step\n",
      "\u001b[1m1/1\u001b[0m \u001b[32m━━━━━━━━━━━━━━━━━━━━\u001b[0m\u001b[37m\u001b[0m \u001b[1m0s\u001b[0m 35ms/step\n",
      "\u001b[1m1/1\u001b[0m \u001b[32m━━━━━━━━━━━━━━━━━━━━\u001b[0m\u001b[37m\u001b[0m \u001b[1m0s\u001b[0m 32ms/step\n",
      "\u001b[1m1/1\u001b[0m \u001b[32m━━━━━━━━━━━━━━━━━━━━\u001b[0m\u001b[37m\u001b[0m \u001b[1m0s\u001b[0m 31ms/step\n",
      "\u001b[1m1/1\u001b[0m \u001b[32m━━━━━━━━━━━━━━━━━━━━\u001b[0m\u001b[37m\u001b[0m \u001b[1m0s\u001b[0m 56ms/step\n",
      "\u001b[1m1/1\u001b[0m \u001b[32m━━━━━━━━━━━━━━━━━━━━\u001b[0m\u001b[37m\u001b[0m \u001b[1m0s\u001b[0m 40ms/step\n",
      "\u001b[1m1/1\u001b[0m \u001b[32m━━━━━━━━━━━━━━━━━━━━\u001b[0m\u001b[37m\u001b[0m \u001b[1m0s\u001b[0m 36ms/step\n"
     ]
    }
   ],
   "source": [
    "predict_the_video(\"fight-detection-surv-dataset/noFight/nofi007.mp4\")"
   ]
  },
  {
   "cell_type": "code",
   "execution_count": 25,
   "id": "8d9c4ec5-3094-4bbb-acc0-dbb7c6112a00",
   "metadata": {},
   "outputs": [],
   "source": [
    "cv2.destroyAllWindows()"
   ]
  }
 ],
 "metadata": {
  "kernelspec": {
   "display_name": "Python 3 (ipykernel)",
   "language": "python",
   "name": "python3"
  },
  "language_info": {
   "codemirror_mode": {
    "name": "ipython",
    "version": 3
   },
   "file_extension": ".py",
   "mimetype": "text/x-python",
   "name": "python",
   "nbconvert_exporter": "python",
   "pygments_lexer": "ipython3",
   "version": "3.12.4"
  }
 },
 "nbformat": 4,
 "nbformat_minor": 5
}
